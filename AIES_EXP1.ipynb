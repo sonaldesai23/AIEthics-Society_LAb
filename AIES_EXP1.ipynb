{
  "nbformat": 4,
  "nbformat_minor": 0,
  "metadata": {
    "colab": {
      "provenance": []
    },
    "kernelspec": {
      "name": "python3",
      "display_name": "Python 3"
    },
    "language_info": {
      "name": "python"
    }
  },
  "cells": [
    {
      "cell_type": "code",
      "source": [
        "!pip install fairlearn\n"
      ],
      "metadata": {
        "colab": {
          "base_uri": "https://localhost:8080/"
        },
        "id": "zgPmCTdOsJaS",
        "outputId": "0bc88527-647b-4a92-be59-b1f4f7a331d9"
      },
      "execution_count": null,
      "outputs": [
        {
          "output_type": "stream",
          "name": "stdout",
          "text": [
            "Collecting fairlearn\n",
            "  Downloading fairlearn-0.12.0-py3-none-any.whl.metadata (7.0 kB)\n",
            "Requirement already satisfied: numpy>=1.24.4 in /usr/local/lib/python3.11/dist-packages (from fairlearn) (2.0.2)\n",
            "Requirement already satisfied: pandas>=2.0.3 in /usr/local/lib/python3.11/dist-packages (from fairlearn) (2.2.2)\n",
            "Requirement already satisfied: scikit-learn>=1.2.1 in /usr/local/lib/python3.11/dist-packages (from fairlearn) (1.6.1)\n",
            "Requirement already satisfied: scipy>=1.9.3 in /usr/local/lib/python3.11/dist-packages (from fairlearn) (1.16.1)\n",
            "Requirement already satisfied: python-dateutil>=2.8.2 in /usr/local/lib/python3.11/dist-packages (from pandas>=2.0.3->fairlearn) (2.9.0.post0)\n",
            "Requirement already satisfied: pytz>=2020.1 in /usr/local/lib/python3.11/dist-packages (from pandas>=2.0.3->fairlearn) (2025.2)\n",
            "Requirement already satisfied: tzdata>=2022.7 in /usr/local/lib/python3.11/dist-packages (from pandas>=2.0.3->fairlearn) (2025.2)\n",
            "Requirement already satisfied: joblib>=1.2.0 in /usr/local/lib/python3.11/dist-packages (from scikit-learn>=1.2.1->fairlearn) (1.5.1)\n",
            "Requirement already satisfied: threadpoolctl>=3.1.0 in /usr/local/lib/python3.11/dist-packages (from scikit-learn>=1.2.1->fairlearn) (3.6.0)\n",
            "Requirement already satisfied: six>=1.5 in /usr/local/lib/python3.11/dist-packages (from python-dateutil>=2.8.2->pandas>=2.0.3->fairlearn) (1.17.0)\n",
            "Downloading fairlearn-0.12.0-py3-none-any.whl (240 kB)\n",
            "\u001b[2K   \u001b[90m━━━━━━━━━━━━━━━━━━━━━━━━━━━━━━━━━━━━━━━━\u001b[0m \u001b[32m240.0/240.0 kB\u001b[0m \u001b[31m15.7 MB/s\u001b[0m eta \u001b[36m0:00:00\u001b[0m\n",
            "\u001b[?25hInstalling collected packages: fairlearn\n",
            "Successfully installed fairlearn-0.12.0\n"
          ]
        }
      ]
    },
    {
      "cell_type": "code",
      "execution_count": null,
      "metadata": {
        "id": "3wafuL3vriJy"
      },
      "outputs": [],
      "source": [
        "import pandas as pd\n",
        "import seaborn as sns\n",
        "from sklearn.model_selection import train_test_split\n",
        "from sklearn.linear_model import LogisticRegression\n",
        "from sklearn.metrics import accuracy_score\n",
        "from fairlearn.metrics import MetricFrame, selection_rate\n",
        "import matplotlib.pyplot as plt\n",
        "from fairlearn.reductions import ExponentiatedGradient, DemographicParity\n"
      ]
    },
    {
      "cell_type": "code",
      "source": [
        "data= pd.read_csv(\"/content/HeartDiseaseTrain-Test.csv\")\n",
        "print(data.head())"
      ],
      "metadata": {
        "colab": {
          "base_uri": "https://localhost:8080/"
        },
        "id": "aYi5vqEasYmc",
        "outputId": "e1be901c-2073-4eb6-fd15-ed01c242a2f7"
      },
      "execution_count": null,
      "outputs": [
        {
          "output_type": "stream",
          "name": "stdout",
          "text": [
            "   age     sex chest_pain_type  resting_blood_pressure  cholestoral  \\\n",
            "0   52    Male  Typical angina                     125          212   \n",
            "1   53    Male  Typical angina                     140          203   \n",
            "2   70    Male  Typical angina                     145          174   \n",
            "3   61    Male  Typical angina                     148          203   \n",
            "4   62  Female  Typical angina                     138          294   \n",
            "\n",
            "      fasting_blood_sugar               rest_ecg  Max_heart_rate  \\\n",
            "0    Lower than 120 mg/ml  ST-T wave abnormality             168   \n",
            "1  Greater than 120 mg/ml                 Normal             155   \n",
            "2    Lower than 120 mg/ml  ST-T wave abnormality             125   \n",
            "3    Lower than 120 mg/ml  ST-T wave abnormality             161   \n",
            "4  Greater than 120 mg/ml  ST-T wave abnormality             106   \n",
            "\n",
            "  exercise_induced_angina  oldpeak        slope vessels_colored_by_flourosopy  \\\n",
            "0                      No      1.0  Downsloping                           Two   \n",
            "1                     Yes      3.1    Upsloping                          Zero   \n",
            "2                     Yes      2.6    Upsloping                          Zero   \n",
            "3                      No      0.0  Downsloping                           One   \n",
            "4                      No      1.9         Flat                         Three   \n",
            "\n",
            "         thalassemia  target  \n",
            "0  Reversable Defect       0  \n",
            "1  Reversable Defect       0  \n",
            "2  Reversable Defect       0  \n",
            "3  Reversable Defect       0  \n",
            "4       Fixed Defect       0  \n"
          ]
        }
      ]
    },
    {
      "cell_type": "code",
      "source": [
        "data = data[['age', 'sex', 'chest_pain_type', 'resting_blood_pressure', 'cholestoral', 'Max_heart_rate', 'oldpeak', 'target']]\n"
      ],
      "metadata": {
        "id": "Kw6IGbknsjyN"
      },
      "execution_count": null,
      "outputs": []
    },
    {
      "cell_type": "code",
      "source": [
        "print(type(data))"
      ],
      "metadata": {
        "colab": {
          "base_uri": "https://localhost:8080/"
        },
        "id": "HKo3Y6m9xJUG",
        "outputId": "ea1d5c4f-df8f-4896-daef-159ed2bcd18b"
      },
      "execution_count": null,
      "outputs": [
        {
          "output_type": "stream",
          "name": "stdout",
          "text": [
            "<class 'pandas.core.frame.DataFrame'>\n"
          ]
        }
      ]
    },
    {
      "cell_type": "code",
      "metadata": {
        "colab": {
          "base_uri": "https://localhost:8080/"
        },
        "id": "0f487ad6",
        "outputId": "54cd8357-9b91-4bd3-8b9f-da6c5d704975"
      },
      "source": [
        "print(data.dtypes)"
      ],
      "execution_count": null,
      "outputs": [
        {
          "output_type": "stream",
          "name": "stdout",
          "text": [
            "age                         int64\n",
            "sex                        object\n",
            "chest_pain_type            object\n",
            "resting_blood_pressure      int64\n",
            "cholestoral                 int64\n",
            "Max_heart_rate              int64\n",
            "oldpeak                   float64\n",
            "target                      int64\n",
            "dtype: object\n"
          ]
        }
      ]
    },
    {
      "cell_type": "code",
      "source": [
        "data = pd.get_dummies(data, columns=['chest_pain_type'], drop_first=True)"
      ],
      "metadata": {
        "id": "uVe-VSpvxGft"
      },
      "execution_count": null,
      "outputs": []
    },
    {
      "cell_type": "code",
      "source": [
        "X = data.drop('target', axis=1)\n",
        "y = data['target']\n",
        "sensitive_feature = X['sex']"
      ],
      "metadata": {
        "id": "Yiw0_kQ5xj11"
      },
      "execution_count": null,
      "outputs": []
    },
    {
      "cell_type": "code",
      "source": [
        "# Encode the 'sex' column before splitting\n",
        "X = pd.get_dummies(X, columns=['sex'], drop_first=True)\n",
        "\n",
        "X_train, X_test, y_train, y_test, sf_train, sf_test = train_test_split(\n",
        "    X, y, sensitive_feature, test_size=0.3, random_state=42\n",
        ")"
      ],
      "metadata": {
        "id": "EwgCaJozxpSc"
      },
      "execution_count": null,
      "outputs": []
    },
    {
      "cell_type": "code",
      "source": [
        "model = LogisticRegression(max_iter=1000)\n",
        "model.fit(X_train, y_train)\n",
        "y_pred = model.predict(X_test)\n"
      ],
      "metadata": {
        "id": "uNMWzx_ixwjP"
      },
      "execution_count": null,
      "outputs": []
    },
    {
      "cell_type": "code",
      "source": [
        "#  Evaluate fairness\n",
        "metric_frame = MetricFrame(\n",
        "    metrics={\n",
        "        \"Selection Rate\": selection_rate,\n",
        "        \"Accuracy\": accuracy_score\n",
        "    },\n",
        "    y_true=y_test,\n",
        "    y_pred=y_pred,\n",
        "    sensitive_features=sf_test\n",
        ")"
      ],
      "metadata": {
        "id": "2eF6b33TyJdr"
      },
      "execution_count": null,
      "outputs": []
    },
    {
      "cell_type": "code",
      "source": [
        "print(\"\\nBaseline Model Metrics by Sex:\")\n",
        "print(metric_frame.by_group)\n",
        "print(\"\\nOverall Accuracy:\", metric_frame.overall['Accuracy'])\n"
      ],
      "metadata": {
        "colab": {
          "base_uri": "https://localhost:8080/"
        },
        "id": "ckvLng7pyoRs",
        "outputId": "39e5efaf-a7b1-4c56-af75-5a03a68e76e3"
      },
      "execution_count": null,
      "outputs": [
        {
          "output_type": "stream",
          "name": "stdout",
          "text": [
            "\n",
            "Baseline Model Metrics by Sex:\n",
            "        Selection Rate  Accuracy\n",
            "sex                             \n",
            "Female        0.725490  0.823529\n",
            "Male          0.436893  0.752427\n",
            "\n",
            "Overall Accuracy: 0.775974025974026\n"
          ]
        }
      ]
    },
    {
      "cell_type": "code",
      "source": [
        "fair_model = ExponentiatedGradient(\n",
        "    LogisticRegression(max_iter=1000),\n",
        "    constraints=DemographicParity(),\n",
        "    eps=0.01\n",
        ")\n",
        "\n",
        "fair_model.fit(X_train, y_train, sensitive_features=sf_train)\n",
        "y_pred_fair = fair_model.predict(X_test)\n"
      ],
      "metadata": {
        "id": "_EkXKbcpyxrx"
      },
      "execution_count": null,
      "outputs": []
    },
    {
      "cell_type": "code",
      "source": [
        "# Evaluate fairness after mitigation\n",
        "metric_frame_fair = MetricFrame(\n",
        "    metrics={\n",
        "        \"Selection Rate\": selection_rate,\n",
        "        \"Accuracy\": accuracy_score\n",
        "    },\n",
        "    y_true=y_test,\n",
        "    y_pred=y_pred_fair,\n",
        "    sensitive_features=sf_test\n",
        ")\n",
        "\n",
        "print(\"\\nFair Model Metrics by Sex:\")\n",
        "print(metric_frame_fair.by_group)\n",
        "print(\"\\nOverall Accuracy (Fair Model):\", metric_frame_fair.overall['Accuracy'])\n"
      ],
      "metadata": {
        "colab": {
          "base_uri": "https://localhost:8080/"
        },
        "id": "V6-7D26Ay3I9",
        "outputId": "48d31399-f064-4a6b-8137-226f33658432"
      },
      "execution_count": null,
      "outputs": [
        {
          "output_type": "stream",
          "name": "stdout",
          "text": [
            "\n",
            "Fair Model Metrics by Sex:\n",
            "        Selection Rate  Accuracy\n",
            "sex                             \n",
            "Female        0.470588  0.725490\n",
            "Male          0.538835  0.728155\n",
            "\n",
            "Overall Accuracy (Fair Model): 0.7272727272727273\n"
          ]
        }
      ]
    },
    {
      "cell_type": "code",
      "source": [
        "# 6. Visualize selection rates before & after fairness constraint"
      ],
      "metadata": {
        "id": "xn_nw6lBzpO0"
      },
      "execution_count": null,
      "outputs": []
    },
    {
      "cell_type": "code",
      "source": [
        "before = metric_frame.by_group[\"Selection Rate\"]\n",
        "after = metric_frame_fair.by_group[\"Selection Rate\"]\n",
        "\n",
        "df_plot = pd.DataFrame({\n",
        "    'Before Fairness': before,\n",
        "    'After Fairness': after\n",
        "})"
      ],
      "metadata": {
        "id": "4Nzgwo73znTh"
      },
      "execution_count": null,
      "outputs": []
    },
    {
      "cell_type": "code",
      "source": [
        "df_plot.plot(kind='bar', figsize=(6,4))\n",
        "plt.title(\"Selection Rate by Sex (0 = Female, 1 = Male)\")\n",
        "plt.ylabel(\"Selection Rate\")\n",
        "plt.ylim(0, 1)\n",
        "plt.grid(axis='y', linestyle='--', alpha=0.6)\n",
        "plt.show()"
      ],
      "metadata": {
        "colab": {
          "base_uri": "https://localhost:8080/",
          "height": 446
        },
        "id": "J7fsqhvizrnb",
        "outputId": "d09d74d7-ecf5-4069-b560-0dc6017af31c"
      },
      "execution_count": null,
      "outputs": [
        {
          "output_type": "display_data",
          "data": {
            "text/plain": [
              "<Figure size 600x400 with 1 Axes>"
            ],
            "image/png": "[encoded data removed]"
          },
          "metadata": {}
        }
      ]
    },
    {
      "cell_type": "code",
      "source": [],
      "metadata": {
        "id": "WtVmQdXp18Qf"
      },
      "execution_count": null,
      "outputs": []
    },
    {
      "cell_type": "markdown",
      "source": [
        "```\n",
        "1. Before Fairness (Blue Bars)\n",
        "Female (~0.73): The model predicted a positive outcome (heart disease) for ~73% of females.\n",
        "\n",
        "Male (~0.44): The model predicted a positive outcome for ~44% of males.\n",
        "→ This is a big gap (~29%) — the model was much more likely to predict heart disease for women than for men.\n",
        "```\n",
        "\n"
      ],
      "metadata": {
        "id": "INQfa5Co1LhA"
      }
    },
    {
      "cell_type": "markdown",
      "source": [
        "\n",
        "\n",
        "```\n",
        "2. After Fairness (Orange Bars)\n",
        "Female (~0.44): The positive prediction rate for women dropped significantly.\n",
        "\n",
        "Male (~0.54): The positive prediction rate for men increased.\n",
        "→ The gap shrank to ~10%, making the model’s predictions more balanced across genders.\n",
        "\n",
        "```\n",
        "\n"
      ],
      "metadata": {
        "id": "6-BUPO981cnZ"
      }
    },
    {
      "cell_type": "markdown",
      "source": [
        "\n",
        "\n",
        "```\n",
        "Before fairness: The model was biased toward predicting heart disease more often for women.\n",
        "\n",
        "After fairness: The model’s prediction rates are closer between genders, reducing gender bias.\n",
        "\n",
        "This comes at the cost of changing predictions, which can sometimes reduce accuracy slightly — a common trade-off in fairness interventions.\n",
        "```\n",
        "\n"
      ],
      "metadata": {
        "id": "TWFXx9LK1lO0"
      }
    }
  ]
}